{
 "cells": [
  {
   "cell_type": "markdown",
   "metadata": {},
   "source": [
    "<center><h1>  Multilayer Perceptron - Predicting hand written images.</center>"
   ]
  },
  {
   "cell_type": "markdown",
   "metadata": {},
   "source": [
    "<h2><center>Dataset</center></h2>\n",
    "\n",
    "The MNIST dataset is a widely used collection of handwritten digits that serves as a benchmark in the field of machine learning and computer vision. It consists of 60,000 training images and 10,000 test images, each depicting a single digit (0 through 9) in grayscale. The images are 28x28 pixels in size, making them relatively small but still complex enough for training and testing various machine learning models, especially in the context of image classification.\n",
    "\n",
    "MNIST is often used as an introductory dataset for practitioners and researchers working on image classification tasks. It has played a crucial role in the development and evaluation of algorithms, serving as a standard for comparing the performance of different models."
   ]
  },
  {
   "cell_type": "markdown",
   "metadata": {},
   "source": [
    "<h2>CODE:</h2>"
   ]
  },
  {
   "cell_type": "markdown",
   "metadata": {},
   "source": [
    "Importing Libraries and Preparing the dataset."
   ]
  },
  {
   "cell_type": "code",
   "execution_count": 3,
   "metadata": {},
   "outputs": [],
   "source": [
    "import tensorflow as tf\n",
    "from keras import layers, models\n",
    "from keras.datasets import mnist\n",
    "from keras.utils import to_categorical\n",
    "import numpy as np\n",
    "from keras.optimizers import Adam\n",
    "\n",
    "# Load and preprocess the MNIST dataset\n",
    "(train_images, train_labels), (test_images, test_labels) = mnist.load_data()\n",
    "train_images = train_images.reshape((60000, 28, 28, 1)).astype('float32') / 255\n",
    "test_images = test_images.reshape((10000, 28, 28, 1)).astype('float32') / 255\n",
    "\n",
    "train_labels = to_categorical(train_labels)\n",
    "test_labels = to_categorical(test_labels)"
   ]
  },
  {
   "cell_type": "markdown",
   "metadata": {},
   "source": [
    "<h2><center>Defining the model.</center>"
   ]
  },
  {
   "cell_type": "code",
   "execution_count": 6,
   "metadata": {},
   "outputs": [
    {
     "name": "stdout",
     "output_type": "stream",
     "text": [
      "Epoch 1/5\n",
      "750/750 [==============================] - 7s 7ms/step - loss: 0.2905 - accuracy: 0.9118 - val_loss: 0.1399 - val_accuracy: 0.9573\n",
      "Epoch 2/5\n",
      "750/750 [==============================] - 5s 7ms/step - loss: 0.1201 - accuracy: 0.9633 - val_loss: 0.1142 - val_accuracy: 0.9655\n",
      "Epoch 3/5\n",
      "750/750 [==============================] - 6s 7ms/step - loss: 0.0835 - accuracy: 0.9738 - val_loss: 0.1043 - val_accuracy: 0.9677\n",
      "Epoch 4/5\n",
      "750/750 [==============================] - 5s 7ms/step - loss: 0.0657 - accuracy: 0.9793 - val_loss: 0.1168 - val_accuracy: 0.9665\n",
      "Epoch 5/5\n",
      "750/750 [==============================] - 6s 8ms/step - loss: 0.0555 - accuracy: 0.9814 - val_loss: 0.1022 - val_accuracy: 0.9716\n",
      "313/313 [==============================] - 1s 4ms/step - loss: 0.0884 - accuracy: 0.9748\n",
      "Test accuracy: 97.47999906539917 \n"
     ]
    }
   ],
   "source": [
    "model = models.Sequential()\n",
    "model.add(layers.Flatten(input_shape=(28, 28, 1)))\n",
    "model.add(layers.Dense(128, activation='relu'))\n",
    "model.add(layers.Dense(256, activation='tanh'))\n",
    "model.add(layers.Dense(128, activation='relu'))\n",
    "model.add(layers.Dropout(0.2))\n",
    "model.add(layers.Dense(10, activation='softmax'))\n",
    "\n",
    "# Compile the model\n",
    "model.compile(optimizer=Adam(learning_rate = 0.001),\n",
    "              loss='categorical_crossentropy',\n",
    "              metrics=['accuracy'])\n",
    "\n",
    "# Train the model with visualization\n",
    "history = model.fit(train_images, train_labels, epochs=5, batch_size=64, validation_split=0.2)\n",
    "\n",
    "\n",
    "# Evaluate the model on the test set\n",
    "test_loss, test_acc = model.evaluate(test_images, test_labels)\n",
    "print(f'Test accuracy: {test_acc * 100} ')\n",
    "print(f'Test accuracy: {test_acc * 100} ')\n"
   ]
  },
  {
   "cell_type": "code",
   "execution_count": 3,
   "metadata": {},
   "outputs": [],
   "source": [
    "def plot_images_with_predictions(images, labels_true, labels_pred):\n",
    "    assert len(images) == len(labels_true) == len(labels_pred), \"Input lengths do not match.\"\n",
    "\n",
    "    fig, axes = plt.subplots(3, 3, figsize=(8, 8))\n",
    "    fig.subplots_adjust(hspace=0.6, wspace=0.3)\n",
    "\n",
    "    for i, ax in enumerate(axes.flat):\n",
    "        # Plot image\n",
    "        ax.imshow(images[i].reshape(28, 28), cmap='gray')\n",
    "\n",
    "        # Highlight correct predictions in green, incorrect predictions in red\n",
    "        title_color = 'green' if labels_true[i] == labels_pred[i] else 'red'\n",
    "\n",
    "        # Show true and predicted labels\n",
    "        ax.set_xlabel(f\"True: {labels_true[i]}\\nPred: {labels_pred[i]}\", color=title_color)\n",
    "        ax.set_xticks([])\n",
    "        ax.set_yticks([])\n",
    "\n",
    "    plt.show()"
   ]
  },
  {
   "cell_type": "code",
   "execution_count": 4,
   "metadata": {},
   "outputs": [
    {
     "name": "stdout",
     "output_type": "stream",
     "text": [
      "313/313 [==============================] - 1s 3ms/step\n"
     ]
    },
    {
     "data": {
      "image/png": "[encoded data removed]",
      "text/plain": [
       "<Figure size 800x800 with 9 Axes>"
      ]
     },
     "metadata": {},
     "output_type": "display_data"
    }
   ],
   "source": [
    "# Use the trained model to predict on test images\n",
    "test_predictions = model.predict(test_images)\n",
    "predicted_labels = np.argmax(test_predictions, axis=1)\n",
    "true_labels = np.argmax(test_labels, axis=1)\n",
    "\n",
    "# Select a few examples for visualization\n",
    "num_examples = 5\n",
    "\n",
    "# Correct predictions\n",
    "correct_indices = np.where(predicted_labels == true_labels)[0]\n",
    "correct_examples = np.random.choice(correct_indices, size=num_examples, replace=False)\n",
    "\n",
    "# Incorrect predictions\n",
    "incorrect_indices = np.where(predicted_labels != true_labels)[0]\n",
    "incorrect_examples = np.random.choice(incorrect_indices, size=num_examples, replace=False)\n",
    "\n",
    "# Print the images with correct and incorrect predictions\n",
    "plot_images_with_predictions(np.concatenate([test_images[correct_examples], test_images[incorrect_examples]]),\n",
    "                             np.concatenate([true_labels[correct_examples], true_labels[incorrect_examples]]),\n",
    "                             np.concatenate([predicted_labels[correct_examples], predicted_labels[incorrect_examples]]))\n"
   ]
  },
  {
   "cell_type": "code",
   "execution_count": 7,
   "metadata": {},
   "outputs": [
    {
     "name": "stdout",
     "output_type": "stream",
     "text": [
      "Model: \"sequential\"\n",
      "_________________________________________________________________\n",
      " Layer (type)                Output Shape              Param #   \n",
      "=================================================================\n",
      " flatten (Flatten)           (None, 784)               0         \n",
      "                                                                 \n",
      " dense (Dense)               (None, 128)               100480    \n",
      "                                                                 \n",
      " dense_1 (Dense)             (None, 256)               33024     \n",
      "                                                                 \n",
      " dense_2 (Dense)             (None, 128)               32896     \n",
      "                                                                 \n",
      " dropout (Dropout)           (None, 128)               0         \n",
      "                                                                 \n",
      " dense_3 (Dense)             (None, 10)                1290      \n",
      "                                                                 \n",
      "=================================================================\n",
      "Total params: 167690 (655.04 KB)\n",
      "Trainable params: 167690 (655.04 KB)\n",
      "Non-trainable params: 0 (0.00 Byte)\n",
      "_________________________________________________________________\n"
     ]
    }
   ],
   "source": [
    "model.summary()"
   ]
  },
  {
   "cell_type": "markdown",
   "metadata": {},
   "source": [
    "<h1><center>Thank You</center>"
   ]
  }
 ],
 "metadata": {
  "kernelspec": {
   "display_name": "Python 3 (ipykernel)",
   "language": "python",
   "name": "python3"
  },
  "language_info": {
   "codemirror_mode": {
    "name": "ipython",
    "version": 3
   },
   "file_extension": ".py",
   "mimetype": "text/x-python",
   "name": "python",
   "nbconvert_exporter": "python",
   "pygments_lexer": "ipython3",
   "version": "3.11.6"
  }
 },
 "nbformat": 4,
 "nbformat_minor": 4
}
